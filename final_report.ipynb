{
 "cells": [
  {
   "cell_type": "markdown",
   "id": "917949aa",
   "metadata": {},
   "source": [
    "# Anomaly Mini Project"
   ]
  },
  {
   "cell_type": "markdown",
   "id": "5ecc3a8f",
   "metadata": {},
   "source": [
    "## Project Goals\n",
    "Answer these questions:\n",
    "\n",
    "1. Which lesson appears to attract the most traffic consistently across cohorts (per program)?\n",
    "2. Is there a cohort that referred to a lesson significantly more than other cohorts seemed to gloss over?\n",
    "3. Are there students who, when active, hardly access the curriculum? If so, what information do you have about these students?\n",
    "4. Is there any suspicious activity, such as users/machines/etc accessing the curriculum who shouldn’t be? Does it appear that any web-scraping is happening? Are there any suspicious IP addresses?\n",
    "5. At some point in 2019, the ability for students and alumni to access both curriculums (web dev to ds, ds to web dev) should have been shut off. Do you see any evidence of that happening? Did it happen before?\n",
    "6. What topics are grads continuing to reference after graduation and into their jobs (for each program)?\n",
    "7. Which lessons are least accessed?\n",
    "8. Anything else I should be aware of?"
   ]
  },
  {
   "cell_type": "code",
   "execution_count": 1,
   "id": "6f69f47a",
   "metadata": {},
   "outputs": [],
   "source": [
    "# imports\n",
    "import numpy as np\n",
    "import pandas as pd\n",
    "import matplotlib.pyplot as plt\n",
    "import seaborn as sns\n",
    "import warnings\n",
    "warnings.filterwarnings('ignore')\n",
    "\n",
    "import env\n",
    "import os\n",
    "import wrangle\n",
    "\n",
    "# DBSCAN import\n",
    "from sklearn.cluster import DBSCAN\n",
    "\n",
    "# Scaler import\n",
    "from sklearn.preprocessing import MinMaxScaler"
   ]
  },
  {
   "cell_type": "code",
   "execution_count": 2,
   "id": "485e2d1b",
   "metadata": {},
   "outputs": [],
   "source": [
    "# load data\n",
    "df = wrangle.prep_logs()"
   ]
  },
  {
   "cell_type": "markdown",
   "id": "b9e60518",
   "metadata": {},
   "source": [
    "# User Defined Functions"
   ]
  },
  {
   "cell_type": "code",
   "execution_count": 4,
   "id": "3d91db9d",
   "metadata": {},
   "outputs": [],
   "source": [
    "def one_program_df_prep(df, program_name):\n",
    "    '''\n",
    "    This function returns a dataframe consisting of data for only a single defined user\n",
    "    '''\n",
    "    df = df[df.program == program_name]\n",
    "    df = df[df.name != 'Staff']\n",
    "    #df.index = pd.to_datetime(df.date)\n",
    "    #df = df.set_index(df.date)\n",
    "    pages_one_program = df['path'].resample('d').count()\n",
    "    return pages_one_program\n",
    "\n",
    "def compute_pct_b(pages_one_program, span, weight, program_name):\n",
    "    '''\n",
    "    This function adds the %b of a bollinger band range for the page views of a single user's log activity\n",
    "    '''\n",
    "    # Calculate upper and lower bollinger band\n",
    "    midband = pages_one_program.ewm(span=span).mean()\n",
    "    stdev = pages_one_program.ewm(span=span).std()\n",
    "    ub = midband + stdev*weight\n",
    "    lb = midband - stdev*weight\n",
    "    \n",
    "    # Add upper and lower band values to dataframe\n",
    "    bb = pd.concat([ub, lb], axis=1)\n",
    "    \n",
    "    # Combine all data into a single dataframe\n",
    "    my_df = pd.concat([pages_one_program, midband, bb], axis=1)\n",
    "    my_df.columns = ['pages_one_program', 'midband', 'ub', 'lb']\n",
    "    \n",
    "    # Calculate percent b and relevant user id to dataframe\n",
    "    my_df['pct_b'] = (my_df['pages_one_program'] - my_df['lb'])/(my_df['ub'] - my_df['lb'])\n",
    "    my_df['program'] = program_name\n",
    "    return my_df\n",
    "\n",
    "def plot_bands(my_df, program):\n",
    "    '''\n",
    "    This function plots the bolliger bands of the page views for a single user\n",
    "    '''\n",
    "    fig, ax = plt.subplots(figsize=(12,8))\n",
    "    ax.plot(my_df.index, my_df.pages_one_program, label='Number of Pages, Progarm: '+str(program))\n",
    "    ax.plot(my_df.index, my_df.midband, label = 'EMA/midband')\n",
    "    ax.plot(my_df.index, my_df.ub, label = 'Upper Band')\n",
    "    ax.plot(my_df.index, my_df.lb, label = 'Lower Band')\n",
    "    ax.legend(loc='best')\n",
    "    ax.set_ylabel('Number of Pages')\n",
    "    plt.show()\n",
    "    \n",
    "def find_anomalies(df, program, span, weight, plot=False):\n",
    "    '''\n",
    "    This function returns the records where a user's daily activity exceeded the upper limit of a bollinger band range\n",
    "    '''\n",
    "    \n",
    "    # Reduce dataframe to represent a single user\n",
    "    pages_one_program = one_program_df_prep(df, program)\n",
    "    \n",
    "    # Add bollinger band data to dataframe\n",
    "    my_df = compute_pct_b(pages_one_program, span, weight, program)\n",
    "    \n",
    "    # Plot data if requested (plot=True)\n",
    "    if plot:\n",
    "        plot_bands(my_df, program)\n",
    "    \n",
    "    # Return only records that sit outside of bollinger band upper limit\n",
    "    return my_df[my_df.pct_b>1]"
   ]
  },
  {
   "cell_type": "markdown",
   "id": "7d352de2",
   "metadata": {},
   "source": [
    "## 1. Which lesson appears to attract the most traffic consistently across cohorts (per program)?"
   ]
  },
  {
   "cell_type": "code",
   "execution_count": null,
   "id": "b48137e8",
   "metadata": {},
   "outputs": [],
   "source": []
  }
 ],
 "metadata": {
  "kernelspec": {
   "display_name": "Python 3",
   "language": "python",
   "name": "python3"
  },
  "language_info": {
   "codemirror_mode": {
    "name": "ipython",
    "version": 3
   },
   "file_extension": ".py",
   "mimetype": "text/x-python",
   "name": "python",
   "nbconvert_exporter": "python",
   "pygments_lexer": "ipython3",
   "version": "3.8.8"
  }
 },
 "nbformat": 4,
 "nbformat_minor": 5
}
